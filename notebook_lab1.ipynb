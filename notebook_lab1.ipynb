{
 "cells": [
  {
   "cell_type": "code",
   "execution_count": 1,
   "metadata": {},
   "outputs": [],
   "source": [
    "import pandas as pd\n",
    "import numpy as np\n",
    "from math import sqrt\n",
    "from PIL import Image \n",
    "from sklearn.neighbors import NearestNeighbors\n",
    "from sklearn.decomposition import PCA\n",
    "import matplotlib.pyplot as plt\n",
    "\n"
   ]
  },
  {
   "cell_type": "markdown",
   "metadata": {},
   "source": [
    "# Méthode du profil"
   ]
  },
  {
   "cell_type": "code",
   "execution_count": 2,
   "metadata": {},
   "outputs": [],
   "source": [
    "#fonction qui calcule le profile d'une image\n",
    "#prend en entrée l'image sous forme de matrice, la longueur et la largeur de l'image\n",
    "def image_to_profile(image,longueur,largeur):\n",
    "    image = Image.fromarray(image)\n",
    "\n",
    "    # Redimensionner l'image\n",
    "    image = image.resize((longueur, largeur), Image.ANTIALIAS)\n",
    "    image = np.array(image)\n",
    "    vecteur1 = np.full((image.shape[0], 1), None, dtype=object)\n",
    "    vecteur2 = np.zeros((image.shape[0], 1))\n",
    "    vecteur3 = np.zeros((image.shape[0], 1))\n",
    "    vecteur4 = np.zeros((image.shape[0], 1))\n",
    "\n",
    "    #fonction qui prend un vecteur en entrée et lui assigne la valeur c pour chaque indice si la valeur actuelle est null\n",
    "    def set_vecteur(vecteur, indices,c):\n",
    "        for i in indices:\n",
    "            if vecteur[i]==None:\n",
    "                vecteur[i]=c\n",
    "        return vecteur\n",
    "    c = 0\n",
    "\n",
    "    #on applique l'algorithm du profiling \n",
    "    for r in range(image.shape[0]):\n",
    "        indices1=[ i for i, valeur in enumerate(image[r,:]) if valeur > 0]\n",
    "        indices2=[ i for i, valeur in enumerate(image[image.shape[0]-1-r,:]) if valeur > 0]\n",
    "        indices3=[ i for i, valeur in enumerate(image[:,r]) if valeur > 0]\n",
    "        indices4=[ i for i, valeur in enumerate(image[:,image.shape[0]-1-r]) if valeur > 0]\n",
    "        \n",
    "        set_vecteur(vecteur1,indices1,c)\n",
    "        set_vecteur(vecteur2,indices2,c)\n",
    "        set_vecteur(vecteur3,indices3,c)\n",
    "        set_vecteur(vecteur4,indices4,c)\n",
    "        c+=1\n",
    "    #On assigne la moitié de la longueur pour chaque valeur nulle\n",
    "    vecteur1 = np.where(vecteur1 == None, int(image.shape[0]/2), vecteur1)\n",
    "    vecteur2 = np.where(vecteur2 == None, int(image.shape[0]/2), vecteur2)\n",
    "    vecteur3 = np.where(vecteur3 == None, int(image.shape[0]/2), vecteur3)\n",
    "    vecteur4 = np.where(vecteur4 == None, int(image.shape[0]/2), vecteur4)               \n",
    "    return np.concatenate((vecteur1, vecteur2, vecteur3, vecteur4))"
   ]
  },
  {
   "cell_type": "code",
   "execution_count": 3,
   "metadata": {},
   "outputs": [],
   "source": [
    "#fonction qui prend en entré le dataframe \n",
    "#prend en paramètre un data frame contenant les images plates, ainsi que la taille de l'image que l'on souhaite avoir\n",
    "#pour la liste liste_image\n",
    "#retourne 3 listes : \n",
    "#liste_image : une liste qui contient toutes les images mise en deux dimensions\n",
    "#liste_sortie : une liste qui contient tout les chiffres de chaque image dans l'ordre\n",
    "#liste profile : une liste qui contient les vecteurs profiles de chaque image dans l'ordre\n",
    "\n",
    "def image_plate_to_image_carre_and_profile(df,longueur,largeur):\n",
    "    liste_image = []\n",
    "    liste_sortie = []\n",
    "    liste_profile = []\n",
    "    def vecteur_vers_matrice(vecteur):\n",
    "       #recuperere l'image applatit et on l'a met au carré\n",
    "       image = np.array(vecteur.iloc[1:],dtype=np.uint8).reshape(int(sqrt(len(vecteur)-1)), int(sqrt(len(vecteur)-1)))\n",
    "       #on redimensionne l'image aux dimmensions longueur et largeur indiquées en paramètre\n",
    "       image = Image.fromarray(image).resize((longueur, largeur), Image.ANTIALIAS)\n",
    "       image = np.array(image)\n",
    "       liste_profile.append(image_to_profile(image,longueur,largeur))\n",
    "\n",
    "       liste_image.append(image)\n",
    "       liste_sortie.append(vecteur.iloc[0])\n",
    "    df.apply(vecteur_vers_matrice,axis=1)\n",
    "    return liste_image,liste_sortie, liste_profile "
   ]
  },
  {
   "cell_type": "code",
   "execution_count": 4,
   "metadata": {},
   "outputs": [
    {
     "data": {
      "text/plain": [
       "'\\ndef image_plate_to_image_carre2(vecteur):\\n    liste_image = []\\n    liste_sortie = []\\n    liste_profile = []\\n    def vecteur_vers_matrice(vecteur):\\n       image = np.array(vecteur[1:],dtype=np.uint8).reshape(int(sqrt(len(vecteur)-1)), int(sqrt(len(vecteur)-1)))\\n       liste_profile.append(image_to_profile(image))\\n       liste_image.append(image)\\n       liste_sortie.append(vecteur[0])\\n    vecteur_vers_matrice(vecteur)\\n    return liste_image,liste_sortie, liste_profile \\n'"
      ]
     },
     "execution_count": 4,
     "metadata": {},
     "output_type": "execute_result"
    }
   ],
   "source": [
    "#fonction qui prend en entré le dataframe \n",
    "#retourne une liste où chaque élément est un array de la forme [chiffre,matrice_image]\n",
    "'''\n",
    "def image_plate_to_image_carre2(vecteur):\n",
    "    liste_image = []\n",
    "    liste_sortie = []\n",
    "    liste_profile = []\n",
    "    def vecteur_vers_matrice(vecteur):\n",
    "       image = np.array(vecteur[1:],dtype=np.uint8).reshape(int(sqrt(len(vecteur)-1)), int(sqrt(len(vecteur)-1)))\n",
    "       liste_profile.append(image_to_profile(image))\n",
    "       liste_image.append(image)\n",
    "       liste_sortie.append(vecteur[0])\n",
    "    vecteur_vers_matrice(vecteur)\n",
    "    return liste_image,liste_sortie, liste_profile \n",
    "'''"
   ]
  },
  {
   "cell_type": "code",
   "execution_count": 5,
   "metadata": {},
   "outputs": [],
   "source": [
    "df = pd.read_csv('mnist_train.csv',header=None)\n"
   ]
  },
  {
   "cell_type": "code",
   "execution_count": 6,
   "metadata": {},
   "outputs": [
    {
     "data": {
      "text/plain": [
       "'\\ntab=df.to_numpy()\\nresultat = np.apply_along_axis(image_plate_to_image_carre2,axis=1,arr=tab,longueur=10, largeur=10)\\n'"
      ]
     },
     "execution_count": 6,
     "metadata": {},
     "output_type": "execute_result"
    }
   ],
   "source": [
    "'''\n",
    "tab=df.to_numpy()\n",
    "resultat = np.apply_along_axis(image_plate_to_image_carre2,axis=1,arr=tab,longueur=10, largeur=10)\n",
    "'''"
   ]
  },
  {
   "cell_type": "code",
   "execution_count": 11,
   "metadata": {},
   "outputs": [
    {
     "name": "stderr",
     "output_type": "stream",
     "text": [
      "C:\\Users\\rayan\\AppData\\Local\\Temp\\ipykernel_21708\\3840149718.py:17: DeprecationWarning: ANTIALIAS is deprecated and will be removed in Pillow 10 (2023-07-01). Use LANCZOS or Resampling.LANCZOS instead.\n",
      "  image = Image.fromarray(image).resize((longueur, largeur), Image.ANTIALIAS)\n",
      "C:\\Users\\rayan\\AppData\\Local\\Temp\\ipykernel_21708\\2231622570.py:7: DeprecationWarning: ANTIALIAS is deprecated and will be removed in Pillow 10 (2023-07-01). Use LANCZOS or Resampling.LANCZOS instead.\n",
      "  image = image.resize((longueur, largeur), Image.ANTIALIAS)\n"
     ]
    },
    {
     "ename": "KeyboardInterrupt",
     "evalue": "",
     "output_type": "error",
     "traceback": [
      "\u001b[1;31m---------------------------------------------------------------------------\u001b[0m",
      "\u001b[1;31mKeyboardInterrupt\u001b[0m                         Traceback (most recent call last)",
      "\u001b[1;32md:\\informatique\\projets\\ETS\\labo\\SYS800\\Lab1\\notebook_lab1.ipynb Cell 8\u001b[0m line \u001b[0;36m2\n\u001b[0;32m      <a href='vscode-notebook-cell:/d%3A/informatique/projets/ETS/labo/SYS800/Lab1/notebook_lab1.ipynb#W6sZmlsZQ%3D%3D?line=0'>1</a>\u001b[0m \u001b[39m#méthode 1\u001b[39;00m\n\u001b[1;32m----> <a href='vscode-notebook-cell:/d%3A/informatique/projets/ETS/labo/SYS800/Lab1/notebook_lab1.ipynb#W6sZmlsZQ%3D%3D?line=1'>2</a>\u001b[0m liste_train_image,liste_train_sortie, liste_profile\u001b[39m=\u001b[39m image_plate_to_image_carre_and_profile(df,\u001b[39m28\u001b[39;49m,\u001b[39m28\u001b[39;49m)\n",
      "\u001b[1;32md:\\informatique\\projets\\ETS\\labo\\SYS800\\Lab1\\notebook_lab1.ipynb Cell 8\u001b[0m line \u001b[0;36m2\n\u001b[0;32m     <a href='vscode-notebook-cell:/d%3A/informatique/projets/ETS/labo/SYS800/Lab1/notebook_lab1.ipynb#W6sZmlsZQ%3D%3D?line=20'>21</a>\u001b[0m    liste_image\u001b[39m.\u001b[39mappend(image)\n\u001b[0;32m     <a href='vscode-notebook-cell:/d%3A/informatique/projets/ETS/labo/SYS800/Lab1/notebook_lab1.ipynb#W6sZmlsZQ%3D%3D?line=21'>22</a>\u001b[0m    liste_sortie\u001b[39m.\u001b[39mappend(vecteur\u001b[39m.\u001b[39miloc[\u001b[39m0\u001b[39m])\n\u001b[1;32m---> <a href='vscode-notebook-cell:/d%3A/informatique/projets/ETS/labo/SYS800/Lab1/notebook_lab1.ipynb#W6sZmlsZQ%3D%3D?line=22'>23</a>\u001b[0m df\u001b[39m.\u001b[39;49mapply(vecteur_vers_matrice,axis\u001b[39m=\u001b[39;49m\u001b[39m1\u001b[39;49m)\n\u001b[0;32m     <a href='vscode-notebook-cell:/d%3A/informatique/projets/ETS/labo/SYS800/Lab1/notebook_lab1.ipynb#W6sZmlsZQ%3D%3D?line=23'>24</a>\u001b[0m \u001b[39mreturn\u001b[39;00m liste_image,liste_sortie, liste_profile\n",
      "File \u001b[1;32mc:\\Users\\rayan\\AppData\\Local\\Programs\\Python\\Python311\\Lib\\site-packages\\pandas\\core\\frame.py:9423\u001b[0m, in \u001b[0;36mDataFrame.apply\u001b[1;34m(self, func, axis, raw, result_type, args, **kwargs)\u001b[0m\n\u001b[0;32m   9412\u001b[0m \u001b[39mfrom\u001b[39;00m \u001b[39mpandas\u001b[39;00m\u001b[39m.\u001b[39;00m\u001b[39mcore\u001b[39;00m\u001b[39m.\u001b[39;00m\u001b[39mapply\u001b[39;00m \u001b[39mimport\u001b[39;00m frame_apply\n\u001b[0;32m   9414\u001b[0m op \u001b[39m=\u001b[39m frame_apply(\n\u001b[0;32m   9415\u001b[0m     \u001b[39mself\u001b[39m,\n\u001b[0;32m   9416\u001b[0m     func\u001b[39m=\u001b[39mfunc,\n\u001b[1;32m   (...)\u001b[0m\n\u001b[0;32m   9421\u001b[0m     kwargs\u001b[39m=\u001b[39mkwargs,\n\u001b[0;32m   9422\u001b[0m )\n\u001b[1;32m-> 9423\u001b[0m \u001b[39mreturn\u001b[39;00m op\u001b[39m.\u001b[39;49mapply()\u001b[39m.\u001b[39m__finalize__(\u001b[39mself\u001b[39m, method\u001b[39m=\u001b[39m\u001b[39m\"\u001b[39m\u001b[39mapply\u001b[39m\u001b[39m\"\u001b[39m)\n",
      "File \u001b[1;32mc:\\Users\\rayan\\AppData\\Local\\Programs\\Python\\Python311\\Lib\\site-packages\\pandas\\core\\apply.py:678\u001b[0m, in \u001b[0;36mFrameApply.apply\u001b[1;34m(self)\u001b[0m\n\u001b[0;32m    675\u001b[0m \u001b[39melif\u001b[39;00m \u001b[39mself\u001b[39m\u001b[39m.\u001b[39mraw:\n\u001b[0;32m    676\u001b[0m     \u001b[39mreturn\u001b[39;00m \u001b[39mself\u001b[39m\u001b[39m.\u001b[39mapply_raw()\n\u001b[1;32m--> 678\u001b[0m \u001b[39mreturn\u001b[39;00m \u001b[39mself\u001b[39;49m\u001b[39m.\u001b[39;49mapply_standard()\n",
      "File \u001b[1;32mc:\\Users\\rayan\\AppData\\Local\\Programs\\Python\\Python311\\Lib\\site-packages\\pandas\\core\\apply.py:798\u001b[0m, in \u001b[0;36mFrameApply.apply_standard\u001b[1;34m(self)\u001b[0m\n\u001b[0;32m    797\u001b[0m \u001b[39mdef\u001b[39;00m \u001b[39mapply_standard\u001b[39m(\u001b[39mself\u001b[39m):\n\u001b[1;32m--> 798\u001b[0m     results, res_index \u001b[39m=\u001b[39m \u001b[39mself\u001b[39;49m\u001b[39m.\u001b[39;49mapply_series_generator()\n\u001b[0;32m    800\u001b[0m     \u001b[39m# wrap results\u001b[39;00m\n\u001b[0;32m    801\u001b[0m     \u001b[39mreturn\u001b[39;00m \u001b[39mself\u001b[39m\u001b[39m.\u001b[39mwrap_results(results, res_index)\n",
      "File \u001b[1;32mc:\\Users\\rayan\\AppData\\Local\\Programs\\Python\\Python311\\Lib\\site-packages\\pandas\\core\\apply.py:814\u001b[0m, in \u001b[0;36mFrameApply.apply_series_generator\u001b[1;34m(self)\u001b[0m\n\u001b[0;32m    811\u001b[0m \u001b[39mwith\u001b[39;00m option_context(\u001b[39m\"\u001b[39m\u001b[39mmode.chained_assignment\u001b[39m\u001b[39m\"\u001b[39m, \u001b[39mNone\u001b[39;00m):\n\u001b[0;32m    812\u001b[0m     \u001b[39mfor\u001b[39;00m i, v \u001b[39min\u001b[39;00m \u001b[39menumerate\u001b[39m(series_gen):\n\u001b[0;32m    813\u001b[0m         \u001b[39m# ignore SettingWithCopy here in case the user mutates\u001b[39;00m\n\u001b[1;32m--> 814\u001b[0m         results[i] \u001b[39m=\u001b[39m \u001b[39mself\u001b[39;49m\u001b[39m.\u001b[39;49mf(v)\n\u001b[0;32m    815\u001b[0m         \u001b[39mif\u001b[39;00m \u001b[39misinstance\u001b[39m(results[i], ABCSeries):\n\u001b[0;32m    816\u001b[0m             \u001b[39m# If we have a view on v, we need to make a copy because\u001b[39;00m\n\u001b[0;32m    817\u001b[0m             \u001b[39m#  series_generator will swap out the underlying data\u001b[39;00m\n\u001b[0;32m    818\u001b[0m             results[i] \u001b[39m=\u001b[39m results[i]\u001b[39m.\u001b[39mcopy(deep\u001b[39m=\u001b[39m\u001b[39mFalse\u001b[39;00m)\n",
      "\u001b[1;32md:\\informatique\\projets\\ETS\\labo\\SYS800\\Lab1\\notebook_lab1.ipynb Cell 8\u001b[0m line \u001b[0;36m1\n\u001b[0;32m     <a href='vscode-notebook-cell:/d%3A/informatique/projets/ETS/labo/SYS800/Lab1/notebook_lab1.ipynb#W6sZmlsZQ%3D%3D?line=16'>17</a>\u001b[0m image \u001b[39m=\u001b[39m Image\u001b[39m.\u001b[39mfromarray(image)\u001b[39m.\u001b[39mresize((longueur, largeur), Image\u001b[39m.\u001b[39mANTIALIAS)\n\u001b[0;32m     <a href='vscode-notebook-cell:/d%3A/informatique/projets/ETS/labo/SYS800/Lab1/notebook_lab1.ipynb#W6sZmlsZQ%3D%3D?line=17'>18</a>\u001b[0m image \u001b[39m=\u001b[39m np\u001b[39m.\u001b[39marray(image)\n\u001b[1;32m---> <a href='vscode-notebook-cell:/d%3A/informatique/projets/ETS/labo/SYS800/Lab1/notebook_lab1.ipynb#W6sZmlsZQ%3D%3D?line=18'>19</a>\u001b[0m liste_profile\u001b[39m.\u001b[39mappend(image_to_profile(image,longueur,largeur))\n\u001b[0;32m     <a href='vscode-notebook-cell:/d%3A/informatique/projets/ETS/labo/SYS800/Lab1/notebook_lab1.ipynb#W6sZmlsZQ%3D%3D?line=20'>21</a>\u001b[0m liste_image\u001b[39m.\u001b[39mappend(image)\n\u001b[0;32m     <a href='vscode-notebook-cell:/d%3A/informatique/projets/ETS/labo/SYS800/Lab1/notebook_lab1.ipynb#W6sZmlsZQ%3D%3D?line=21'>22</a>\u001b[0m liste_sortie\u001b[39m.\u001b[39mappend(vecteur\u001b[39m.\u001b[39miloc[\u001b[39m0\u001b[39m])\n",
      "\u001b[1;32md:\\informatique\\projets\\ETS\\labo\\SYS800\\Lab1\\notebook_lab1.ipynb Cell 8\u001b[0m line \u001b[0;36m2\n\u001b[0;32m     <a href='vscode-notebook-cell:/d%3A/informatique/projets/ETS/labo/SYS800/Lab1/notebook_lab1.ipynb#W6sZmlsZQ%3D%3D?line=22'>23</a>\u001b[0m \u001b[39mfor\u001b[39;00m r \u001b[39min\u001b[39;00m \u001b[39mrange\u001b[39m(image\u001b[39m.\u001b[39mshape[\u001b[39m0\u001b[39m]):\n\u001b[0;32m     <a href='vscode-notebook-cell:/d%3A/informatique/projets/ETS/labo/SYS800/Lab1/notebook_lab1.ipynb#W6sZmlsZQ%3D%3D?line=23'>24</a>\u001b[0m     indices1\u001b[39m=\u001b[39m[ i \u001b[39mfor\u001b[39;00m i, valeur \u001b[39min\u001b[39;00m \u001b[39menumerate\u001b[39m(image[r,:]) \u001b[39mif\u001b[39;00m valeur \u001b[39m>\u001b[39m \u001b[39m0\u001b[39m]\n\u001b[1;32m---> <a href='vscode-notebook-cell:/d%3A/informatique/projets/ETS/labo/SYS800/Lab1/notebook_lab1.ipynb#W6sZmlsZQ%3D%3D?line=24'>25</a>\u001b[0m     indices2\u001b[39m=\u001b[39m[ i \u001b[39mfor\u001b[39;49;00m i, valeur \u001b[39min\u001b[39;49;00m \u001b[39menumerate\u001b[39;49m(image[image\u001b[39m.\u001b[39;49mshape[\u001b[39m0\u001b[39;49m]\u001b[39m-\u001b[39;49m\u001b[39m1\u001b[39;49m\u001b[39m-\u001b[39;49mr,:]) \u001b[39mif\u001b[39;49;00m valeur \u001b[39m>\u001b[39;49m \u001b[39m0\u001b[39;49m]\n\u001b[0;32m     <a href='vscode-notebook-cell:/d%3A/informatique/projets/ETS/labo/SYS800/Lab1/notebook_lab1.ipynb#W6sZmlsZQ%3D%3D?line=25'>26</a>\u001b[0m     indices3\u001b[39m=\u001b[39m[ i \u001b[39mfor\u001b[39;00m i, valeur \u001b[39min\u001b[39;00m \u001b[39menumerate\u001b[39m(image[:,r]) \u001b[39mif\u001b[39;00m valeur \u001b[39m>\u001b[39m \u001b[39m0\u001b[39m]\n\u001b[0;32m     <a href='vscode-notebook-cell:/d%3A/informatique/projets/ETS/labo/SYS800/Lab1/notebook_lab1.ipynb#W6sZmlsZQ%3D%3D?line=26'>27</a>\u001b[0m     indices4\u001b[39m=\u001b[39m[ i \u001b[39mfor\u001b[39;00m i, valeur \u001b[39min\u001b[39;00m \u001b[39menumerate\u001b[39m(image[:,image\u001b[39m.\u001b[39mshape[\u001b[39m0\u001b[39m]\u001b[39m-\u001b[39m\u001b[39m1\u001b[39m\u001b[39m-\u001b[39mr]) \u001b[39mif\u001b[39;00m valeur \u001b[39m>\u001b[39m \u001b[39m0\u001b[39m]\n",
      "\u001b[1;32md:\\informatique\\projets\\ETS\\labo\\SYS800\\Lab1\\notebook_lab1.ipynb Cell 8\u001b[0m line \u001b[0;36m2\n\u001b[0;32m     <a href='vscode-notebook-cell:/d%3A/informatique/projets/ETS/labo/SYS800/Lab1/notebook_lab1.ipynb#W6sZmlsZQ%3D%3D?line=22'>23</a>\u001b[0m \u001b[39mfor\u001b[39;00m r \u001b[39min\u001b[39;00m \u001b[39mrange\u001b[39m(image\u001b[39m.\u001b[39mshape[\u001b[39m0\u001b[39m]):\n\u001b[0;32m     <a href='vscode-notebook-cell:/d%3A/informatique/projets/ETS/labo/SYS800/Lab1/notebook_lab1.ipynb#W6sZmlsZQ%3D%3D?line=23'>24</a>\u001b[0m     indices1\u001b[39m=\u001b[39m[ i \u001b[39mfor\u001b[39;00m i, valeur \u001b[39min\u001b[39;00m \u001b[39menumerate\u001b[39m(image[r,:]) \u001b[39mif\u001b[39;00m valeur \u001b[39m>\u001b[39m \u001b[39m0\u001b[39m]\n\u001b[1;32m---> <a href='vscode-notebook-cell:/d%3A/informatique/projets/ETS/labo/SYS800/Lab1/notebook_lab1.ipynb#W6sZmlsZQ%3D%3D?line=24'>25</a>\u001b[0m     indices2\u001b[39m=\u001b[39m[ i \u001b[39mfor\u001b[39;00m i, valeur \u001b[39min\u001b[39;00m \u001b[39menumerate\u001b[39m(image[image\u001b[39m.\u001b[39mshape[\u001b[39m0\u001b[39m]\u001b[39m-\u001b[39m\u001b[39m1\u001b[39m\u001b[39m-\u001b[39mr,:]) \u001b[39mif\u001b[39;00m valeur \u001b[39m>\u001b[39m \u001b[39m0\u001b[39m]\n\u001b[0;32m     <a href='vscode-notebook-cell:/d%3A/informatique/projets/ETS/labo/SYS800/Lab1/notebook_lab1.ipynb#W6sZmlsZQ%3D%3D?line=25'>26</a>\u001b[0m     indices3\u001b[39m=\u001b[39m[ i \u001b[39mfor\u001b[39;00m i, valeur \u001b[39min\u001b[39;00m \u001b[39menumerate\u001b[39m(image[:,r]) \u001b[39mif\u001b[39;00m valeur \u001b[39m>\u001b[39m \u001b[39m0\u001b[39m]\n\u001b[0;32m     <a href='vscode-notebook-cell:/d%3A/informatique/projets/ETS/labo/SYS800/Lab1/notebook_lab1.ipynb#W6sZmlsZQ%3D%3D?line=26'>27</a>\u001b[0m     indices4\u001b[39m=\u001b[39m[ i \u001b[39mfor\u001b[39;00m i, valeur \u001b[39min\u001b[39;00m \u001b[39menumerate\u001b[39m(image[:,image\u001b[39m.\u001b[39mshape[\u001b[39m0\u001b[39m]\u001b[39m-\u001b[39m\u001b[39m1\u001b[39m\u001b[39m-\u001b[39mr]) \u001b[39mif\u001b[39;00m valeur \u001b[39m>\u001b[39m \u001b[39m0\u001b[39m]\n",
      "\u001b[1;31mKeyboardInterrupt\u001b[0m: "
     ]
    }
   ],
   "source": [
    "#méthode 1\n",
    "liste_train_image,liste_train_sortie, liste_profile= image_plate_to_image_carre_and_profile(df,28,28)\n"
   ]
  },
  {
   "cell_type": "code",
   "execution_count": 12,
   "metadata": {},
   "outputs": [
    {
     "name": "stderr",
     "output_type": "stream",
     "text": [
      "C:\\Users\\rayan\\AppData\\Local\\Temp\\ipykernel_21708\\3840149718.py:17: DeprecationWarning: ANTIALIAS is deprecated and will be removed in Pillow 10 (2023-07-01). Use LANCZOS or Resampling.LANCZOS instead.\n",
      "  image = Image.fromarray(image).resize((longueur, largeur), Image.ANTIALIAS)\n",
      "C:\\Users\\rayan\\AppData\\Local\\Temp\\ipykernel_21708\\2231622570.py:7: DeprecationWarning: ANTIALIAS is deprecated and will be removed in Pillow 10 (2023-07-01). Use LANCZOS or Resampling.LANCZOS instead.\n",
      "  image = image.resize((longueur, largeur), Image.ANTIALIAS)\n"
     ]
    }
   ],
   "source": [
    "liste_train_image10,liste_train_sortie10, liste_profile10= image_plate_to_image_carre_and_profile(df,10,10)\n"
   ]
  },
  {
   "cell_type": "code",
   "execution_count": 13,
   "metadata": {},
   "outputs": [
    {
     "name": "stderr",
     "output_type": "stream",
     "text": [
      "C:\\Users\\rayan\\AppData\\Local\\Temp\\ipykernel_21708\\3840149718.py:17: DeprecationWarning: ANTIALIAS is deprecated and will be removed in Pillow 10 (2023-07-01). Use LANCZOS or Resampling.LANCZOS instead.\n",
      "  image = Image.fromarray(image).resize((longueur, largeur), Image.ANTIALIAS)\n",
      "C:\\Users\\rayan\\AppData\\Local\\Temp\\ipykernel_21708\\2231622570.py:7: DeprecationWarning: ANTIALIAS is deprecated and will be removed in Pillow 10 (2023-07-01). Use LANCZOS or Resampling.LANCZOS instead.\n",
      "  image = image.resize((longueur, largeur), Image.ANTIALIAS)\n"
     ]
    }
   ],
   "source": [
    "liste_train_image20,liste_train_sortie20, liste_profile20= image_plate_to_image_carre_and_profile(df,20,20)"
   ]
  },
  {
   "cell_type": "code",
   "execution_count": 10,
   "metadata": {},
   "outputs": [
    {
     "name": "stderr",
     "output_type": "stream",
     "text": [
      "C:\\Users\\rayan\\AppData\\Local\\Temp\\ipykernel_21708\\3840149718.py:17: DeprecationWarning: ANTIALIAS is deprecated and will be removed in Pillow 10 (2023-07-01). Use LANCZOS or Resampling.LANCZOS instead.\n",
      "  image = Image.fromarray(image).resize((longueur, largeur), Image.ANTIALIAS)\n",
      "C:\\Users\\rayan\\AppData\\Local\\Temp\\ipykernel_21708\\2231622570.py:7: DeprecationWarning: ANTIALIAS is deprecated and will be removed in Pillow 10 (2023-07-01). Use LANCZOS or Resampling.LANCZOS instead.\n",
      "  image = image.resize((longueur, largeur), Image.ANTIALIAS)\n"
     ]
    },
    {
     "name": "stdout",
     "output_type": "stream",
     "text": [
      "Unexpected exception formatting exception. Falling back to standard exception\n"
     ]
    },
    {
     "name": "stderr",
     "output_type": "stream",
     "text": [
      "Traceback (most recent call last):\n",
      "  File \"C:\\Users\\rayan\\AppData\\Roaming\\Python\\Python311\\site-packages\\IPython\\core\\interactiveshell.py\", line 3508, in run_code\n",
      "    exec(code_obj, self.user_global_ns, self.user_ns)\n",
      "  File \"C:\\Users\\rayan\\AppData\\Local\\Temp\\ipykernel_21708\\2191578102.py\", line 1, in <module>\n",
      "    liste_train_image30,liste_train_sortie30, liste_profile30= image_plate_to_image_carre_and_profile(df,30,30)\n",
      "                                                               ^^^^^^^^^^^^^^^^^^^^^^^^^^^^^^^^^^^^^^^^^^^^^^^^\n",
      "  File \"C:\\Users\\rayan\\AppData\\Local\\Temp\\ipykernel_21708\\3840149718.py\", line 23, in image_plate_to_image_carre_and_profile\n",
      "    df.apply(vecteur_vers_matrice,axis=1)\n",
      "  File \"c:\\Users\\rayan\\AppData\\Local\\Programs\\Python\\Python311\\Lib\\site-packages\\pandas\\core\\frame.py\", line 9423, in apply\n",
      "    return op.apply().__finalize__(self, method=\"apply\")\n",
      "           ^^^^^^^^^^\n",
      "  File \"c:\\Users\\rayan\\AppData\\Local\\Programs\\Python\\Python311\\Lib\\site-packages\\pandas\\core\\apply.py\", line 678, in apply\n",
      "    return self.apply_standard()\n",
      "           ^^^^^^^^^^^^^^^^^^^^^\n",
      "  File \"c:\\Users\\rayan\\AppData\\Local\\Programs\\Python\\Python311\\Lib\\site-packages\\pandas\\core\\apply.py\", line 798, in apply_standard\n",
      "    results, res_index = self.apply_series_generator()\n",
      "                         ^^^^^^^^^^^^^^^^^^^^^^^^^^^^^\n",
      "  File \"c:\\Users\\rayan\\AppData\\Local\\Programs\\Python\\Python311\\Lib\\site-packages\\pandas\\core\\apply.py\", line 814, in apply_series_generator\n",
      "    results[i] = self.f(v)\n",
      "                 ^^^^^^^^^\n",
      "  File \"C:\\Users\\rayan\\AppData\\Local\\Temp\\ipykernel_21708\\3840149718.py\", line 19, in vecteur_vers_matrice\n",
      "    liste_profile.append(image_to_profile(image,longueur,largeur))\n",
      "                         ^^^^^^^^^^^^^^^^^^^^^^^^^^^^^^^^^^^^^^^^\n",
      "  File \"C:\\Users\\rayan\\AppData\\Local\\Temp\\ipykernel_21708\\2231622570.py\", line 32, in image_to_profile\n",
      "    set_vecteur(vecteur4,indices4,c)\n",
      "  File \"C:\\Users\\rayan\\AppData\\Local\\Temp\\ipykernel_21708\\2231622570.py\", line -1, in set_vecteur\n",
      "KeyboardInterrupt\n",
      "\n",
      "During handling of the above exception, another exception occurred:\n",
      "\n",
      "Traceback (most recent call last):\n",
      "  File \"C:\\Users\\rayan\\AppData\\Roaming\\Python\\Python311\\site-packages\\IPython\\core\\interactiveshell.py\", line 2105, in showtraceback\n",
      "    stb = self.InteractiveTB.structured_traceback(\n",
      "          ^^^^^^^^^^^^^^^^^^^^^^^^^^^^^^^^^^^^^^^^\n",
      "  File \"C:\\Users\\rayan\\AppData\\Roaming\\Python\\Python311\\site-packages\\IPython\\core\\ultratb.py\", line 1428, in structured_traceback\n",
      "    return FormattedTB.structured_traceback(\n",
      "           ^^^^^^^^^^^^^^^^^^^^^^^^^^^^^^^^^\n",
      "  File \"C:\\Users\\rayan\\AppData\\Roaming\\Python\\Python311\\site-packages\\IPython\\core\\ultratb.py\", line 1319, in structured_traceback\n",
      "    return VerboseTB.structured_traceback(\n",
      "           ^^^^^^^^^^^^^^^^^^^^^^^^^^^^^^^\n",
      "  File \"C:\\Users\\rayan\\AppData\\Roaming\\Python\\Python311\\site-packages\\IPython\\core\\ultratb.py\", line 1172, in structured_traceback\n",
      "    formatted_exception = self.format_exception_as_a_whole(etype, evalue, etb, number_of_lines_of_context,\n",
      "                          ^^^^^^^^^^^^^^^^^^^^^^^^^^^^^^^^^^^^^^^^^^^^^^^^^^^^^^^^^^^^^^^^^^^^^^^^^^^^^^^^\n",
      "  File \"C:\\Users\\rayan\\AppData\\Roaming\\Python\\Python311\\site-packages\\IPython\\core\\ultratb.py\", line 1087, in format_exception_as_a_whole\n",
      "    frames.append(self.format_record(record))\n",
      "                  ^^^^^^^^^^^^^^^^^^^^^^^^^^\n",
      "  File \"C:\\Users\\rayan\\AppData\\Roaming\\Python\\Python311\\site-packages\\IPython\\core\\ultratb.py\", line 969, in format_record\n",
      "    frame_info.lines, Colors, self.has_colors, lvals\n",
      "    ^^^^^^^^^^^^^^^^\n",
      "  File \"C:\\Users\\rayan\\AppData\\Roaming\\Python\\Python311\\site-packages\\IPython\\core\\ultratb.py\", line 792, in lines\n",
      "    return self._sd.lines\n",
      "           ^^^^^^^^^^^^^^\n",
      "  File \"C:\\Users\\rayan\\AppData\\Roaming\\Python\\Python311\\site-packages\\stack_data\\utils.py\", line 144, in cached_property_wrapper\n",
      "    value = obj.__dict__[self.func.__name__] = self.func(obj)\n",
      "                                               ^^^^^^^^^^^^^^\n",
      "  File \"C:\\Users\\rayan\\AppData\\Roaming\\Python\\Python311\\site-packages\\stack_data\\core.py\", line 734, in lines\n",
      "    pieces = self.included_pieces\n",
      "             ^^^^^^^^^^^^^^^^^^^^\n",
      "  File \"C:\\Users\\rayan\\AppData\\Roaming\\Python\\Python311\\site-packages\\stack_data\\utils.py\", line 144, in cached_property_wrapper\n",
      "    value = obj.__dict__[self.func.__name__] = self.func(obj)\n",
      "                                               ^^^^^^^^^^^^^^\n",
      "  File \"C:\\Users\\rayan\\AppData\\Roaming\\Python\\Python311\\site-packages\\stack_data\\core.py\", line 681, in included_pieces\n",
      "    pos = scope_pieces.index(self.executing_piece)\n",
      "                             ^^^^^^^^^^^^^^^^^^^^\n",
      "  File \"C:\\Users\\rayan\\AppData\\Roaming\\Python\\Python311\\site-packages\\stack_data\\utils.py\", line 144, in cached_property_wrapper\n",
      "    value = obj.__dict__[self.func.__name__] = self.func(obj)\n",
      "                                               ^^^^^^^^^^^^^^\n",
      "  File \"C:\\Users\\rayan\\AppData\\Roaming\\Python\\Python311\\site-packages\\stack_data\\core.py\", line 660, in executing_piece\n",
      "    return only(\n",
      "           ^^^^^\n",
      "  File \"C:\\Users\\rayan\\AppData\\Roaming\\Python\\Python311\\site-packages\\executing\\executing.py\", line 190, in only\n",
      "    raise NotOneValueFound('Expected one value, found 0')\n",
      "executing.executing.NotOneValueFound: Expected one value, found 0\n"
     ]
    }
   ],
   "source": [
    "liste_train_image30,liste_train_sortie30, liste_profile30= image_plate_to_image_carre_and_profile(df,30,30)"
   ]
  },
  {
   "cell_type": "code",
   "execution_count": null,
   "metadata": {},
   "outputs": [],
   "source": [
    "#liste_train_image40,liste_train_sortie40, liste_profile40= image_plate_to_image_carre_and_profile(df,40,40)"
   ]
  },
  {
   "cell_type": "code",
   "execution_count": null,
   "metadata": {},
   "outputs": [],
   "source": [
    "#liste_train_image50,liste_train_sortie50, liste_profile50= image_plate_to_image_carre_and_profile(df,50,50)"
   ]
  },
  {
   "cell_type": "code",
   "execution_count": null,
   "metadata": {},
   "outputs": [],
   "source": [
    "#liste_train_image60,liste_train_sortie60, liste_profile60= image_plate_to_image_carre_and_profile(df,60,60)"
   ]
  },
  {
   "cell_type": "code",
   "execution_count": null,
   "metadata": {},
   "outputs": [],
   "source": [
    "#liste_train_image80,liste_train_sortie80, liste_profile80= image_plate_to_image_carre_and_profile(df,80,80)"
   ]
  },
  {
   "cell_type": "code",
   "execution_count": null,
   "metadata": {},
   "outputs": [],
   "source": [
    "#liste_train_image100,liste_train_sortie100, liste_profile100= image_plate_to_image_carre_and_profile(df,100,100)"
   ]
  },
  {
   "cell_type": "code",
   "execution_count": null,
   "metadata": {},
   "outputs": [],
   "source": [
    "#Fonction qui permet de calculer le taux de chevauchement\n",
    "#prend en paramètre les vecteurs de profil, la sortie ainsi que le modèle de NearestNeighbors entrainé avec les vecteurs de profil\n",
    "def taux_chevauchement(vecteurs_profil,vecteur_y,neighbors):\n",
    "    distances, indices = neighbors.kneighbors(vecteurs_profil)\n",
    "    c=0\n",
    "    i=0\n",
    "    indices = indices[:,1]\n",
    "    for i in range(len(vecteur_y)):\n",
    "        if vecteur_y[indices[i]] !=  vecteur_y[i]:\n",
    "            c+=1\n",
    "        i+=1\n",
    "    return (c/len(vecteur_y))"
   ]
  },
  {
   "cell_type": "code",
   "execution_count": null,
   "metadata": {},
   "outputs": [
    {
     "data": {
      "text/plain": [
       "(120, 1)"
      ]
     },
     "execution_count": 49,
     "metadata": {},
     "output_type": "execute_result"
    }
   ],
   "source": [
    "liste_profile30[10].shape"
   ]
  },
  {
   "cell_type": "code",
   "execution_count": null,
   "metadata": {},
   "outputs": [],
   "source": [
    "#on stock la liste dans un array afin de lui donner 2 dimmension au lieu de 3 \n",
    "# cela est necessaire pour le passer dans l'algorithmique NearestNeighbors\n",
    "liste_profile30 = np.array(liste_profile30) \n",
    "liste_profile30 = liste_profile30.reshape((len(liste_profile30), liste_profile30.shape[1]*liste_profile30.shape[2]))"
   ]
  },
  {
   "cell_type": "code",
   "execution_count": null,
   "metadata": {},
   "outputs": [
    {
     "data": {
      "text/plain": [
       "0.2573166666666667"
      ]
     },
     "execution_count": 51,
     "metadata": {},
     "output_type": "execute_result"
    }
   ],
   "source": [
    "#on calcule les voisins les plus proches puis le taux de chevauchement\n",
    "neighbors = NearestNeighbors(n_neighbors=2).fit(liste_profile30)\n",
    "\n",
    "tx_chevauchement= taux_chevauchement(liste_profile30,liste_train_sortie30,neighbors)\n",
    "tx_chevauchement"
   ]
  },
  {
   "cell_type": "code",
   "execution_count": null,
   "metadata": {},
   "outputs": [
    {
     "data": {
      "image/png": "[encoded data removed]",
      "text/plain": [
       "<Figure size 640x480 with 1 Axes>"
      ]
     },
     "metadata": {},
     "output_type": "display_data"
    }
   ],
   "source": [
    "pca = PCA()\n",
    "\n",
    "# On applique le modèle PCA sur nos données\n",
    "pca.fit(liste_profile30)  \n",
    "\n",
    "# On trace la somme cumulative de la variance expliquée\n",
    "explained_variance_ratio_cumulative = pca.explained_variance_ratio_.cumsum()\n",
    "plt.plot(explained_variance_ratio_cumulative)\n",
    "plt.xlabel('Nombre de composants')\n",
    "plt.ylabel('Variance cumulative expliquée')\n",
    "plt.show()"
   ]
  },
  {
   "cell_type": "markdown",
   "metadata": {},
   "source": [
    "On remarque que le nombre de composantes principales optimal est 30"
   ]
  },
  {
   "cell_type": "code",
   "execution_count": null,
   "metadata": {},
   "outputs": [],
   "source": [
    "pca =pca.set_params(n_components=30)\n",
    "liste_profile30_reduit = pca.fit_transform(liste_profile30)"
   ]
  },
  {
   "cell_type": "code",
   "execution_count": null,
   "metadata": {},
   "outputs": [
    {
     "data": {
      "text/plain": [
       "(60000, 30)"
      ]
     },
     "execution_count": 54,
     "metadata": {},
     "output_type": "execute_result"
    }
   ],
   "source": [
    "liste_profile30_reduit.shape"
   ]
  },
  {
   "cell_type": "markdown",
   "metadata": {},
   "source": [
    "### Données de test "
   ]
  },
  {
   "cell_type": "code",
   "execution_count": null,
   "metadata": {},
   "outputs": [],
   "source": [
    "#On charge les données de test\n",
    "df_test = pd.read_csv('mnist_test.csv',header=None)"
   ]
  },
  {
   "cell_type": "code",
   "execution_count": null,
   "metadata": {},
   "outputs": [
    {
     "name": "stderr",
     "output_type": "stream",
     "text": [
      "C:\\Users\\rayan\\AppData\\Local\\Temp\\ipykernel_27192\\3840149718.py:17: DeprecationWarning: ANTIALIAS is deprecated and will be removed in Pillow 10 (2023-07-01). Use LANCZOS or Resampling.LANCZOS instead.\n",
      "  image = Image.fromarray(image).resize((longueur, largeur), Image.ANTIALIAS)\n",
      "C:\\Users\\rayan\\AppData\\Local\\Temp\\ipykernel_27192\\2231622570.py:7: DeprecationWarning: ANTIALIAS is deprecated and will be removed in Pillow 10 (2023-07-01). Use LANCZOS or Resampling.LANCZOS instead.\n",
      "  image = image.resize((longueur, largeur), Image.ANTIALIAS)\n"
     ]
    }
   ],
   "source": [
    "#On crée la liste des images au carrées, la liste des sorties ainsi que la liste contenant les profiles de chaque vecteur\n",
    "# la dimension de l'image etait de 30 par 30 ainsi on redimensionne les images dans ces dimensions\n",
    "liste_test_image30,liste_test_sortie30, liste_profile_test30= image_plate_to_image_carre_and_profile(df_test,30,30)"
   ]
  },
  {
   "cell_type": "code",
   "execution_count": null,
   "metadata": {},
   "outputs": [],
   "source": [
    "#on stock la liste dans un array afin de lui donner 2 dimmension au lieu de 3 \n",
    "# cela est necessaire pour le passer dans l'algorithmique NearestNeighbors\n",
    "liste_profile_test30 = np.array(liste_profile_test30) \n",
    "liste_profile_test30 = liste_profile_test30.reshape((len(liste_profile_test30), liste_profile_test30.shape[1]*liste_profile_test30.shape[2]))"
   ]
  },
  {
   "cell_type": "code",
   "execution_count": null,
   "metadata": {},
   "outputs": [],
   "source": [
    "# On utilise la PCA deja entrainé sur les données d'entrainement afin de réduire les données de test \n",
    "liste_profile_test30_reduit = pca.transform(liste_profile_test30) "
   ]
  },
  {
   "cell_type": "code",
   "execution_count": null,
   "metadata": {},
   "outputs": [
    {
     "data": {
      "text/plain": [
       "(10000, 30)"
      ]
     },
     "execution_count": 59,
     "metadata": {},
     "output_type": "execute_result"
    }
   ],
   "source": [
    "liste_profile_test30_reduit.shape"
   ]
  },
  {
   "cell_type": "markdown",
   "metadata": {},
   "source": [
    "# Autoencoder"
   ]
  },
  {
   "cell_type": "code",
   "execution_count": 2,
   "metadata": {},
   "outputs": [],
   "source": [
    "#import \n",
    "import tensorflow as tf\n",
    "from tensorflow.keras.models import Model\n",
    "from tensorflow.keras.layers import Reshape, Flatten, Dense, Lambda, Input\n",
    "from tensorflow.keras.losses import MeanSquaredError\n",
    "\n"
   ]
  },
  {
   "cell_type": "code",
   "execution_count": 3,
   "metadata": {},
   "outputs": [],
   "source": [
    "def from_vecteur_to_image(vecteur):\n",
    "    return np.array(vecteur.iloc[1:],dtype=np.uint8).reshape(int(sqrt(len(vecteur)-1)), int(sqrt(len(vecteur)-1)))"
   ]
  },
  {
   "cell_type": "code",
   "execution_count": 4,
   "metadata": {},
   "outputs": [],
   "source": [
    "train = pd.read_csv('mnist_train.csv')\n",
    "\n",
    "train_image=np.stack(train.apply(from_vecteur_to_image,axis=1))\n"
   ]
  },
  {
   "cell_type": "markdown",
   "metadata": {},
   "source": [
    "### Autoencoder Simple"
   ]
  },
  {
   "cell_type": "code",
   "execution_count": 34,
   "metadata": {},
   "outputs": [],
   "source": [
    "latent_dim = 64 #dimension de notre vecteur encodée (couche caché la plus interne)\n",
    "\n",
    "class AutoencoderSimple(Model):\n",
    "  def __init__(self, latent_dim=64):\n",
    "    super(AutoencoderSimple, self).__init__()\n",
    "    self.latent_dim = latent_dim   \n",
    "    self.encoder = tf.keras.Sequential([Flatten(),Lambda(lambda x : x/255),Dense(latent_dim, activation='relu')])\n",
    "    self.decoder= tf.keras.Sequential([Dense(784,activation='relu'),Reshape((28,28))])\n",
    "\n",
    "  def call(self, x):\n",
    "    encoded = self.encoder(x)\n",
    "    decoded = self.decoder(encoded)\n",
    "    return decoded\n",
    "\n",
    "autoencoder = AutoencoderSimple()"
   ]
  },
  {
   "cell_type": "code",
   "execution_count": 35,
   "metadata": {},
   "outputs": [
    {
     "name": "stdout",
     "output_type": "stream",
     "text": [
      "Epoch 1/10\n",
      "1875/1875 [==============================] - 5s 2ms/step - loss: 3547.3450 - accuracy: 0.2782 - val_loss: 2424.3396 - val_accuracy: 0.4008\n",
      "Epoch 2/10\n",
      "1875/1875 [==============================] - 4s 2ms/step - loss: 1998.9236 - accuracy: 0.4451 - val_loss: 1649.0712 - val_accuracy: 0.4741\n",
      "Epoch 3/10\n",
      "1875/1875 [==============================] - 4s 2ms/step - loss: 1494.8031 - accuracy: 0.4934 - val_loss: 1337.1339 - val_accuracy: 0.5048\n",
      "Epoch 4/10\n",
      "1875/1875 [==============================] - 4s 2ms/step - loss: 1269.2856 - accuracy: 0.5173 - val_loss: 1179.5039 - val_accuracy: 0.5208\n",
      "Epoch 5/10\n",
      "1875/1875 [==============================] - 4s 2ms/step - loss: 1145.1461 - accuracy: 0.5305 - val_loss: 1087.6183 - val_accuracy: 0.5315\n",
      "Epoch 6/10\n",
      "1875/1875 [==============================] - 4s 2ms/step - loss: 1068.4120 - accuracy: 0.5387 - val_loss: 1027.6589 - val_accuracy: 0.5364\n",
      "Epoch 7/10\n",
      "1875/1875 [==============================] - 4s 2ms/step - loss: 1015.7733 - accuracy: 0.5446 - val_loss: 984.7061 - val_accuracy: 0.5407\n",
      "Epoch 8/10\n",
      "1875/1875 [==============================] - 4s 2ms/step - loss: 978.1638 - accuracy: 0.5489 - val_loss: 954.0422 - val_accuracy: 0.5448\n",
      "Epoch 9/10\n",
      "1875/1875 [==============================] - 4s 2ms/step - loss: 949.7993 - accuracy: 0.5525 - val_loss: 929.7551 - val_accuracy: 0.5479\n",
      "Epoch 10/10\n",
      "1875/1875 [==============================] - 4s 2ms/step - loss: 927.0157 - accuracy: 0.5552 - val_loss: 911.0273 - val_accuracy: 0.5536\n"
     ]
    }
   ],
   "source": [
    "autoencoder.compile(optimizer='adam', loss='mean_squared_error', metrics=['accuracy'])\n",
    "history = autoencoder.fit(train_image,train_image,epochs=10,validation_data=(test_image,test_image))"
   ]
  },
  {
   "cell_type": "code",
   "execution_count": 37,
   "metadata": {},
   "outputs": [
    {
     "data": {
      "image/png": "[encoded data removed]",
      "text/plain": [
       "<Figure size 640x480 with 1 Axes>"
      ]
     },
     "metadata": {},
     "output_type": "display_data"
    }
   ],
   "source": [
    "loss = history.history['loss']\n",
    "val_loss = history.history['val_loss']\n",
    "\n",
    "#Tracez l'évolution des erreurs d'entraînement et de validation au fil des époques\n",
    "plt.plot(loss, label='Erreur sur les données d\\'entraînement')\n",
    "plt.plot(val_loss, label='Erreur sur les données de test')\n",
    "plt.xlabel('Époque')\n",
    "plt.ylabel('Perte (MSE)')\n",
    "plt.legend()\n",
    "plt.show()"
   ]
  },
  {
   "cell_type": "code",
   "execution_count": 8,
   "metadata": {},
   "outputs": [
    {
     "data": {
      "image/png": "[encoded data removed]",
      "text/plain": [
       "<PIL.Image.Image image mode=L size=28x28>"
      ]
     },
     "execution_count": 8,
     "metadata": {},
     "output_type": "execute_result"
    }
   ],
   "source": [
    "Image.fromarray(train_image[0])"
   ]
  },
  {
   "cell_type": "code",
   "execution_count": 17,
   "metadata": {},
   "outputs": [
    {
     "data": {
      "text/plain": [
       "dtype('uint8')"
      ]
     },
     "execution_count": 17,
     "metadata": {},
     "output_type": "execute_result"
    }
   ],
   "source": [
    "train_image[0].dtype"
   ]
  },
  {
   "cell_type": "code",
   "execution_count": 30,
   "metadata": {},
   "outputs": [],
   "source": [
    "sortie = autoencoder.call(train_image[0].reshape(1,28,28))\n"
   ]
  },
  {
   "cell_type": "code",
   "execution_count": 31,
   "metadata": {},
   "outputs": [
    {
     "data": {
      "text/plain": [
       "(28, 28)"
      ]
     },
     "execution_count": 31,
     "metadata": {},
     "output_type": "execute_result"
    }
   ],
   "source": [
    "sortie_np=sortie[0].numpy()\n",
    "sortie_np.shape"
   ]
  },
  {
   "cell_type": "code",
   "execution_count": 32,
   "metadata": {},
   "outputs": [],
   "source": [
    "sortie_np =sortie_np.astype('uint8')"
   ]
  },
  {
   "cell_type": "code",
   "execution_count": 33,
   "metadata": {},
   "outputs": [
    {
     "data": {
      "image/png": "[encoded data removed]",
      "text/plain": [
       "<PIL.Image.Image image mode=L size=28x28>"
      ]
     },
     "execution_count": 33,
     "metadata": {},
     "output_type": "execute_result"
    }
   ],
   "source": [
    "Image.fromarray(sortie_np)"
   ]
  },
  {
   "cell_type": "markdown",
   "metadata": {},
   "source": [
    "### Autoencoder Profond"
   ]
  },
  {
   "cell_type": "code",
   "execution_count": 38,
   "metadata": {},
   "outputs": [],
   "source": [
    "latent_dim = 64 #dimension de notre vecteur encodée (couche caché la plus interne)\n",
    "\n",
    "class AutoencoderProfond(Model):\n",
    "  def __init__(self, latent_dim=64,nbre_neuronne_couche2=500):\n",
    "    super(AutoencoderProfond, self).__init__()\n",
    "    self.latent_dim = latent_dim   \n",
    "    self.encoder = tf.keras.Sequential([Flatten(),Lambda(lambda x : x/255),\n",
    "                                        Dense(nbre_neuronne_couche2, activation='relu'),\n",
    "                                        Dense(latent_dim, activation='relu')])\n",
    "    self.decoder= tf.keras.Sequential([Dense(nbre_neuronne_couche2, activation='relu'),Dense(784,activation='relu'),Reshape((28,28))])\n",
    "\n",
    "  def call(self, x):\n",
    "    encoded = self.encoder(x)\n",
    "    decoded = self.decoder(encoded) \n",
    "    return decoded\n",
    "\n",
    "autoencoder = AutoencoderProfond()"
   ]
  },
  {
   "cell_type": "code",
   "execution_count": 49,
   "metadata": {},
   "outputs": [
    {
     "name": "stdout",
     "output_type": "stream",
     "text": [
      "Epoch 1/10\n",
      "1875/1875 [==============================] - 4s 2ms/step - loss: 4503.9150 - accuracy: 0.1814 - val_loss: 4129.5498 - val_accuracy: 0.2022\n",
      "Epoch 2/10\n",
      "1875/1875 [==============================] - 3s 2ms/step - loss: 3508.6433 - accuracy: 0.3099 - val_loss: 3225.2498 - val_accuracy: 0.3587\n",
      "Epoch 3/10\n",
      "1875/1875 [==============================] - 3s 2ms/step - loss: 3063.8564 - accuracy: 0.3842 - val_loss: 2930.8867 - val_accuracy: 0.4028\n",
      "Epoch 4/10\n",
      "1875/1875 [==============================] - 4s 2ms/step - loss: 2915.5623 - accuracy: 0.4037 - val_loss: 2883.7070 - val_accuracy: 0.4061\n",
      "Epoch 5/10\n",
      "1875/1875 [==============================] - 3s 2ms/step - loss: 2862.4319 - accuracy: 0.4099 - val_loss: 2782.2234 - val_accuracy: 0.4128\n",
      "Epoch 6/10\n",
      "1875/1875 [==============================] - 3s 2ms/step - loss: 2694.0327 - accuracy: 0.4221 - val_loss: 2637.6562 - val_accuracy: 0.4245\n",
      "Epoch 7/10\n",
      "1875/1875 [==============================] - 3s 2ms/step - loss: 2638.6816 - accuracy: 0.4258 - val_loss: 2621.3960 - val_accuracy: 0.4286\n",
      "Epoch 8/10\n",
      "1875/1875 [==============================] - 3s 2ms/step - loss: 2627.9714 - accuracy: 0.4270 - val_loss: 2613.6165 - val_accuracy: 0.4268\n",
      "Epoch 9/10\n",
      "1875/1875 [==============================] - 4s 2ms/step - loss: 2621.1096 - accuracy: 0.4278 - val_loss: 2603.3687 - val_accuracy: 0.4293\n",
      "Epoch 10/10\n",
      "1875/1875 [==============================] - 4s 2ms/step - loss: 2615.8823 - accuracy: 0.4285 - val_loss: 2599.9045 - val_accuracy: 0.4287\n",
      "Epoch 1/10\n",
      "1875/1875 [==============================] - 6s 2ms/step - loss: 4100.7778 - accuracy: 0.2577 - val_loss: 3128.4802 - val_accuracy: 0.3633\n",
      "Epoch 2/10\n",
      "1875/1875 [==============================] - 4s 2ms/step - loss: 2821.9978 - accuracy: 0.4013 - val_loss: 2559.9717 - val_accuracy: 0.4255\n",
      "Epoch 3/10\n",
      "1875/1875 [==============================] - 3s 2ms/step - loss: 2432.3140 - accuracy: 0.4410 - val_loss: 2309.6606 - val_accuracy: 0.4485\n",
      "Epoch 4/10\n",
      "1875/1875 [==============================] - 3s 2ms/step - loss: 2242.3616 - accuracy: 0.4538 - val_loss: 2163.4028 - val_accuracy: 0.4547\n",
      "Epoch 5/10\n",
      "1875/1875 [==============================] - 3s 2ms/step - loss: 2145.0342 - accuracy: 0.4612 - val_loss: 2088.2429 - val_accuracy: 0.4626\n",
      "Epoch 6/10\n",
      "1875/1875 [==============================] - 3s 2ms/step - loss: 2066.6326 - accuracy: 0.4675 - val_loss: 2008.4402 - val_accuracy: 0.4728\n",
      "Epoch 7/10\n",
      "1875/1875 [==============================] - 3s 2ms/step - loss: 2005.1951 - accuracy: 0.4745 - val_loss: 1969.7250 - val_accuracy: 0.4741\n",
      "Epoch 8/10\n",
      "1875/1875 [==============================] - 3s 2ms/step - loss: 1979.5751 - accuracy: 0.4777 - val_loss: 1947.1646 - val_accuracy: 0.4764\n",
      "Epoch 9/10\n",
      "1875/1875 [==============================] - 4s 2ms/step - loss: 1961.3370 - accuracy: 0.4793 - val_loss: 1931.6542 - val_accuracy: 0.4789\n",
      "Epoch 10/10\n",
      "1875/1875 [==============================] - 4s 2ms/step - loss: 1940.6547 - accuracy: 0.4820 - val_loss: 1907.7334 - val_accuracy: 0.4825\n",
      "Epoch 1/10\n",
      "1875/1875 [==============================] - 6s 3ms/step - loss: 3593.5164 - accuracy: 0.3306 - val_loss: 2571.7285 - val_accuracy: 0.4224\n",
      "Epoch 2/10\n",
      "1875/1875 [==============================] - 5s 2ms/step - loss: 2318.4993 - accuracy: 0.4496 - val_loss: 2077.1753 - val_accuracy: 0.4626\n",
      "Epoch 3/10\n",
      "1875/1875 [==============================] - 5s 3ms/step - loss: 1970.7764 - accuracy: 0.4761 - val_loss: 1836.5425 - val_accuracy: 0.4837\n",
      "Epoch 4/10\n",
      "1875/1875 [==============================] - 7s 4ms/step - loss: 1794.8824 - accuracy: 0.4903 - val_loss: 1713.5847 - val_accuracy: 0.4964\n",
      "Epoch 5/10\n",
      "1875/1875 [==============================] - 6s 3ms/step - loss: 1682.7308 - accuracy: 0.4997 - val_loss: 1608.9729 - val_accuracy: 0.5006\n",
      "Epoch 6/10\n",
      "1875/1875 [==============================] - 4s 2ms/step - loss: 1596.6458 - accuracy: 0.5073 - val_loss: 1552.1378 - val_accuracy: 0.5062\n",
      "Epoch 7/10\n",
      "1875/1875 [==============================] - 4s 2ms/step - loss: 1545.2811 - accuracy: 0.5114 - val_loss: 1504.4617 - val_accuracy: 0.5101\n",
      "Epoch 8/10\n",
      "1875/1875 [==============================] - 4s 2ms/step - loss: 1503.8524 - accuracy: 0.5155 - val_loss: 1465.8208 - val_accuracy: 0.5158\n",
      "Epoch 9/10\n",
      "1875/1875 [==============================] - 5s 2ms/step - loss: 1469.8644 - accuracy: 0.5196 - val_loss: 1437.3461 - val_accuracy: 0.5163\n",
      "Epoch 10/10\n",
      "1875/1875 [==============================] - 4s 2ms/step - loss: 1441.4663 - accuracy: 0.5221 - val_loss: 1412.3226 - val_accuracy: 0.5168\n",
      "Epoch 1/10\n",
      "1875/1875 [==============================] - 7s 3ms/step - loss: 3253.6873 - accuracy: 0.3676 - val_loss: 2272.0659 - val_accuracy: 0.4525\n",
      "Epoch 2/10\n",
      "1875/1875 [==============================] - 6s 3ms/step - loss: 2036.0409 - accuracy: 0.4758 - val_loss: 1831.5659 - val_accuracy: 0.4888\n",
      "Epoch 3/10\n",
      "1875/1875 [==============================] - 6s 3ms/step - loss: 1726.0305 - accuracy: 0.5029 - val_loss: 1625.6141 - val_accuracy: 0.5092\n",
      "Epoch 4/10\n",
      "1875/1875 [==============================] - 6s 3ms/step - loss: 1585.5416 - accuracy: 0.5155 - val_loss: 1513.4088 - val_accuracy: 0.5154\n",
      "Epoch 5/10\n",
      "1875/1875 [==============================] - 6s 3ms/step - loss: 1491.5515 - accuracy: 0.5239 - val_loss: 1444.8102 - val_accuracy: 0.5235\n",
      "Epoch 6/10\n",
      "1875/1875 [==============================] - 6s 3ms/step - loss: 1441.0083 - accuracy: 0.5291 - val_loss: 1403.0873 - val_accuracy: 0.5248\n",
      "Epoch 7/10\n",
      "1875/1875 [==============================] - 6s 3ms/step - loss: 1399.7218 - accuracy: 0.5332 - val_loss: 1359.0632 - val_accuracy: 0.5335\n",
      "Epoch 8/10\n",
      "1875/1875 [==============================] - 5s 3ms/step - loss: 1358.2860 - accuracy: 0.5379 - val_loss: 1325.4519 - val_accuracy: 0.5347\n",
      "Epoch 9/10\n",
      "1875/1875 [==============================] - 6s 3ms/step - loss: 1324.6526 - accuracy: 0.5417 - val_loss: 1295.3484 - val_accuracy: 0.5420\n",
      "Epoch 10/10\n",
      "1875/1875 [==============================] - 6s 3ms/step - loss: 1296.0912 - accuracy: 0.5448 - val_loss: 1273.0483 - val_accuracy: 0.5401\n",
      "Epoch 1/10\n",
      "1875/1875 [==============================] - 9s 4ms/step - loss: 2803.2778 - accuracy: 0.3967 - val_loss: 1875.4543 - val_accuracy: 0.4822\n",
      "Epoch 2/10\n",
      "1875/1875 [==============================] - 7s 4ms/step - loss: 1682.1980 - accuracy: 0.5021 - val_loss: 1522.5674 - val_accuracy: 0.5153\n",
      "Epoch 3/10\n",
      "1875/1875 [==============================] - 7s 4ms/step - loss: 1448.5372 - accuracy: 0.5251 - val_loss: 1369.9197 - val_accuracy: 0.5302\n",
      "Epoch 4/10\n",
      "1875/1875 [==============================] - 7s 4ms/step - loss: 1332.6506 - accuracy: 0.5376 - val_loss: 1286.2034 - val_accuracy: 0.5342\n",
      "Epoch 5/10\n",
      "1875/1875 [==============================] - 9s 5ms/step - loss: 1256.0537 - accuracy: 0.5469 - val_loss: 1222.9099 - val_accuracy: 0.5437\n",
      "Epoch 6/10\n",
      "1875/1875 [==============================] - 8s 4ms/step - loss: 1198.9714 - accuracy: 0.5539 - val_loss: 1172.4459 - val_accuracy: 0.5523\n",
      "Epoch 7/10\n",
      "1875/1875 [==============================] - 9s 5ms/step - loss: 1155.5149 - accuracy: 0.5595 - val_loss: 1136.7592 - val_accuracy: 0.5545\n",
      "Epoch 8/10\n",
      "1875/1875 [==============================] - 11s 6ms/step - loss: 1119.9811 - accuracy: 0.5641 - val_loss: 1102.1859 - val_accuracy: 0.5599\n",
      "Epoch 9/10\n",
      "1875/1875 [==============================] - 13s 7ms/step - loss: 1091.0931 - accuracy: 0.5674 - val_loss: 1077.3085 - val_accuracy: 0.5655\n",
      "Epoch 10/10\n",
      "1875/1875 [==============================] - 11s 6ms/step - loss: 1068.2411 - accuracy: 0.5708 - val_loss: 1059.2361 - val_accuracy: 0.5687\n",
      "Epoch 1/10\n",
      "1875/1875 [==============================] - 28s 14ms/step - loss: 2594.8337 - accuracy: 0.4250 - val_loss: 1770.9929 - val_accuracy: 0.4987\n",
      "Epoch 2/10\n",
      "1875/1875 [==============================] - 27s 14ms/step - loss: 1564.6937 - accuracy: 0.5205 - val_loss: 1406.6127 - val_accuracy: 0.5289\n",
      "Epoch 3/10\n",
      "1875/1875 [==============================] - 27s 14ms/step - loss: 1359.5343 - accuracy: 0.5442 - val_loss: 1283.8513 - val_accuracy: 0.5510\n",
      "Epoch 4/10\n",
      "1875/1875 [==============================] - 27s 14ms/step - loss: 1263.8864 - accuracy: 0.5577 - val_loss: 1216.0771 - val_accuracy: 0.5589\n",
      "Epoch 5/10\n",
      "1875/1875 [==============================] - 27s 14ms/step - loss: 1205.3857 - accuracy: 0.5656 - val_loss: 1169.3807 - val_accuracy: 0.5607\n",
      "Epoch 6/10\n",
      "1875/1875 [==============================] - 27s 14ms/step - loss: 1165.6285 - accuracy: 0.5712 - val_loss: 1139.4196 - val_accuracy: 0.5674\n",
      "Epoch 7/10\n",
      "1875/1875 [==============================] - 31s 16ms/step - loss: 1115.4779 - accuracy: 0.5760 - val_loss: 1081.7147 - val_accuracy: 0.5715\n",
      "Epoch 8/10\n",
      "1875/1875 [==============================] - 29s 15ms/step - loss: 1081.2723 - accuracy: 0.5796 - val_loss: 1057.0392 - val_accuracy: 0.5746\n",
      "Epoch 9/10\n",
      "1875/1875 [==============================] - 31s 16ms/step - loss: 1059.2161 - accuracy: 0.5825 - val_loss: 1042.6653 - val_accuracy: 0.5776\n",
      "Epoch 10/10\n",
      "1875/1875 [==============================] - 28s 15ms/step - loss: 1041.0676 - accuracy: 0.5851 - val_loss: 1024.1147 - val_accuracy: 0.5773\n"
     ]
    }
   ],
   "source": [
    "liste_nbre_neuronne_couche2 = [10,20,50,100,200,500]\n",
    "liste_error =[]\n",
    "def evaluation_modele_couche_taille_differente():\n",
    "    for n in liste_nbre_neuronne_couche2:\n",
    "        autoencoder_profond=AutoencoderProfond(nbre_neuronne_couche2=n)\n",
    "        autoencoder_profond.compile(optimizer='adam', loss='mean_squared_error', metrics=['accuracy'])\n",
    "        history = autoencoder_profond.fit(train_image,train_image,epochs=10)\n",
    "        liste_error.append(history.history['loss'][-1:])\n",
    "    return liste_error\n",
    "\n"
   ]
  },
  {
   "cell_type": "code",
   "execution_count": 52,
   "metadata": {},
   "outputs": [
    {
     "data": {
      "image/png": "[encoded data removed]",
      "text/plain": [
       "<Figure size 640x480 with 1 Axes>"
      ]
     },
     "metadata": {},
     "output_type": "display_data"
    }
   ],
   "source": [
    "liste_nbre_neuronne_couche2 = [10,20,50,100,200,500]\n",
    "#Tracez l'évolution des erreurs d'entraînement et de validation au fil des époques\n",
    "plt.plot(liste_nbre_neuronne_couche2,liste_error, label='Erreur sur les données d\\'entraînement')\n",
    "plt.xlabel('Nombre de neuronne')\n",
    "plt.ylabel('Perte (MSE)')\n",
    "plt.legend()\n",
    "plt.show()"
   ]
  },
  {
   "cell_type": "code",
   "execution_count": 53,
   "metadata": {},
   "outputs": [
    {
     "data": {
      "text/plain": [
       "[[2615.88232421875],\n",
       " [1940.6546630859375],\n",
       " [1441.46630859375],\n",
       " [1296.0911865234375],\n",
       " [1068.2410888671875],\n",
       " [1041.067626953125]]"
      ]
     },
     "execution_count": 53,
     "metadata": {},
     "output_type": "execute_result"
    }
   ],
   "source": [
    "history.history['loss'][-1:]"
   ]
  },
  {
   "cell_type": "code",
   "execution_count": null,
   "metadata": {},
   "outputs": [],
   "source": []
  }
 ],
 "metadata": {
  "kernelspec": {
   "display_name": "Python 3",
   "language": "python",
   "name": "python3"
  },
  "language_info": {
   "codemirror_mode": {
    "name": "ipython",
    "version": 3
   },
   "file_extension": ".py",
   "mimetype": "text/x-python",
   "name": "python",
   "nbconvert_exporter": "python",
   "pygments_lexer": "ipython3",
   "version": "3.11.3"
  },
  "orig_nbformat": 4
 },
 "nbformat": 4,
 "nbformat_minor": 2
}
